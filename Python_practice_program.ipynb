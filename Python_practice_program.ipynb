{
  "nbformat": 4,
  "nbformat_minor": 0,
  "metadata": {
    "colab": {
      "name": "Python practice program.ipynb",
      "provenance": [],
      "collapsed_sections": [],
      "toc_visible": true,
      "authorship_tag": "ABX9TyOomfR75xQ264X4RpKxmj7z",
      "include_colab_link": true
    },
    "kernelspec": {
      "name": "python3",
      "display_name": "Python 3"
    },
    "language_info": {
      "name": "python"
    }
  },
  "cells": [
    {
      "cell_type": "markdown",
      "metadata": {
        "id": "view-in-github",
        "colab_type": "text"
      },
      "source": [
        "<a href=\"https://colab.research.google.com/github/pratik2229/python-practice-program/blob/main/Python_practice_program.ipynb\" target=\"_parent\"><img src=\"https://colab.research.google.com/assets/colab-badge.svg\" alt=\"Open In Colab\"/></a>"
      ]
    },
    {
      "cell_type": "markdown",
      "metadata": {
        "id": "5oddgVM4Pzp5"
      },
      "source": [
        "<h1>Assingment No.1</h1>\n",
        "\n",
        "---\n",
        "\n"
      ]
    },
    {
      "cell_type": "code",
      "metadata": {
        "colab": {
          "base_uri": "https://localhost:8080/"
        },
        "id": "hYtqlpy32rF9",
        "outputId": "d71ff6d4-ad2d-4085-fc99-194e48225ba3"
      },
      "source": [
        "#2. WAP to find area of circle.\n",
        "\n",
        "pi = (22/7.0)\n",
        "r=int(input(\"Enter redius of a circle:\"))\n",
        "area=(pi*r*r)\n",
        "print(\"Area of circle is\",area)"
      ],
      "execution_count": null,
      "outputs": [
        {
          "output_type": "stream",
          "name": "stdout",
          "text": [
            "Enter redius of a circle:6\n",
            "Area of circle is 113.14285714285714\n"
          ]
        }
      ]
    },
    {
      "cell_type": "code",
      "metadata": {
        "colab": {
          "base_uri": "https://localhost:8080/"
        },
        "id": "X04xGB8x4GKf",
        "outputId": "c6edc650-39e9-4e26-8b71-db2043ee0c38"
      },
      "source": [
        "#3.WAP to find percentage.\n",
        "\n",
        "tm = 500\n",
        "ob=int(input(\"Enter marks obtained by student:\"))\n",
        "per= (ob/tm)*100\n",
        "print(\"Percentage of a student is\",per)"
      ],
      "execution_count": null,
      "outputs": [
        {
          "output_type": "stream",
          "name": "stdout",
          "text": [
            "Enter marks obtained by student:361\n",
            "Percentage of a student is 72.2\n"
          ]
        }
      ]
    },
    {
      "cell_type": "code",
      "metadata": {
        "colab": {
          "base_uri": "https://localhost:8080/"
        },
        "id": "VOg1dqbd5VmZ",
        "outputId": "b28d429f-d2fd-4249-8a76-7234234305a2"
      },
      "source": [
        "#4. WAP to find torque when two masses are given.\n",
        "\n",
        "m1 = 189\n",
        "m2 = 265\n",
        "torque = ((m1+m2)/(m1*m2))\n",
        "print(\"Answer is\",torque)\n"
      ],
      "execution_count": null,
      "outputs": [
        {
          "output_type": "stream",
          "name": "stdout",
          "text": [
            "Answer is 0.009064590196665669\n"
          ]
        }
      ]
    },
    {
      "cell_type": "code",
      "metadata": {
        "colab": {
          "base_uri": "https://localhost:8080/"
        },
        "id": "3VhcgWiS83pw",
        "outputId": "e37e6e6f-8661-431e-8a2a-ae5fcfe9776b"
      },
      "source": [
        "#5. WAP to conert centegret into ferinheit.\n",
        "\n",
        "c=int(input(\"Enter tempreture in centegret:\"))\n",
        "f=((9/5*c)+32)\n",
        "print(\" Converted tempreture is\",f)"
      ],
      "execution_count": null,
      "outputs": [
        {
          "output_type": "stream",
          "name": "stdout",
          "text": [
            "Enter tempreture in centegret:98\n",
            " Converted tempreture is 208.4\n"
          ]
        }
      ]
    },
    {
      "cell_type": "code",
      "metadata": {
        "colab": {
          "base_uri": "https://localhost:8080/"
        },
        "id": "B9NlHmRD-Y0N",
        "outputId": "06667236-8b37-4206-ef69-86228cfac0b8"
      },
      "source": [
        "#6. WAP to calculate volume of sphere.\n",
        "\n",
        "pi=(22/7.0)\n",
        "r=int(input(\"Enter redius of a sphere:\"))\n",
        "volume=((4/3)*(pi)*(r*r*r))\n",
        "\n",
        "print(\"Volume of sphere is\",volume)"
      ],
      "execution_count": null,
      "outputs": [
        {
          "output_type": "stream",
          "name": "stdout",
          "text": [
            "Enter redius of a sphere:8\n",
            "Volume of sphere is 2145.523809523809\n"
          ]
        }
      ]
    },
    {
      "cell_type": "code",
      "metadata": {
        "colab": {
          "base_uri": "https://localhost:8080/"
        },
        "id": "062alztj-jTT",
        "outputId": "d31dd536-f6ae-4542-fed2-68c828b8b507"
      },
      "source": [
        "#7. WAP thrt convrt hm/hr to miles/hr.\n",
        "\n",
        "kmph=int(input(\"Enter kilometer:\"))\n",
        "mph = (kmph/8)*5\n",
        "print(\"Miles per hour is {}\".format(mph))"
      ],
      "execution_count": null,
      "outputs": [
        {
          "output_type": "stream",
          "name": "stdout",
          "text": [
            "Enter kilometer:80\n",
            "Miles per hour is 50.0\n"
          ]
        }
      ]
    },
    {
      "cell_type": "code",
      "metadata": {
        "colab": {
          "base_uri": "https://localhost:8080/"
        },
        "id": "u67cb-GGEPDS",
        "outputId": "cd911396-247e-48be-bf75-5617544dc3b3"
      },
      "source": [
        "#8. WAP to calculate area of rectangle.\n",
        "\n",
        "l=int(input(\"Enter length of a rectangle:\"))\n",
        "b=int(input(\"Enter bredth of a rectangle \"))\n",
        "area=(l*b)\n",
        "print(\"Area of rectangle is {}\".format(area))"
      ],
      "execution_count": null,
      "outputs": [
        {
          "output_type": "stream",
          "name": "stdout",
          "text": [
            "Enter length of a rectangle:9\n",
            "Enter bredth of a rectangle 5\n",
            "Area of rectangle is 45\n"
          ]
        }
      ]
    },
    {
      "cell_type": "code",
      "metadata": {
        "colab": {
          "base_uri": "https://localhost:8080/"
        },
        "id": "0hbZnoV6FV90",
        "outputId": "9102807e-56ae-4d6c-9547-e4589606ec26"
      },
      "source": [
        "#9. WAP to calculate area of triangle.\n",
        "\n",
        "b=int(input(\"Enter base of a triangle:\"))\n",
        "h=int(input(\"Enter height of a triangle \"))\n",
        "area=((1/2.0)*b*h)\n",
        "print(\"Area of triangle is {}\".format(area))\n"
      ],
      "execution_count": null,
      "outputs": [
        {
          "output_type": "stream",
          "name": "stdout",
          "text": [
            "Enter base of a triangle:10\n",
            "Enter height of a triangle 12\n",
            "Area of triangle is 60.0\n"
          ]
        }
      ]
    },
    {
      "cell_type": "code",
      "metadata": {
        "colab": {
          "base_uri": "https://localhost:8080/"
        },
        "id": "Yg8gd6JcGFuD",
        "outputId": "7f8e586a-47a8-4578-a81b-698605194030"
      },
      "source": [
        "#10. WAP to add two numbers without using third variable.\n",
        "\n",
        "a=int(input(\"Enter any number:\"))\n",
        "b=int(input(\"Enter any number: \"))\n",
        "print(\"Area of rectangle is {}\".format(a+b))"
      ],
      "execution_count": null,
      "outputs": [
        {
          "output_type": "stream",
          "name": "stdout",
          "text": [
            "Enter any number:6\n",
            "Enter any number: 9\n",
            "Area of rectangle is 15\n"
          ]
        }
      ]
    },
    {
      "cell_type": "code",
      "metadata": {
        "id": "hfKpnhwXGtHj",
        "colab": {
          "base_uri": "https://localhost:8080/"
        },
        "outputId": "9808b040-867b-47fe-d596-fd8a00dd77c5"
      },
      "source": [
        "#11.WAP to accept two items weight and no. of purchace calculate average.\n",
        "\n",
        "w1=int(input(\"Enter any number:\"))\n",
        "w2=int(input(\"Enter any number: \"))\n",
        "p1=int(input(\"Enter any number:\"))\n",
        "p2=int(input(\"Enter any number: \"))\n",
        "avg=(w1*p1)+(w2*p2)/(p1+p2)\n",
        "print(\"Average is {}\".format(avg))"
      ],
      "execution_count": null,
      "outputs": [
        {
          "output_type": "stream",
          "name": "stdout",
          "text": [
            "Enter any number:6\n",
            "Enter any number: 8\n",
            "Enter any number:4\n",
            "Enter any number: 2\n",
            "Average is 26.666666666666668\n"
          ]
        }
      ]
    },
    {
      "cell_type": "code",
      "metadata": {
        "colab": {
          "base_uri": "https://localhost:8080/"
        },
        "id": "Ro8SCu5jjpao",
        "outputId": "44a7eba6-2957-4c13-fd4a-7d993a9c56a2"
      },
      "source": [
        "#12. WAP thrt calculate compound intrest rate 7.5% and time 5 years and accept principle intrest from user.\n",
        "\n",
        "r = 7.5\n",
        "t = 4\n",
        "PI=int(input(\"Enter Princeple amount:\"))\n",
        "CI = (PI*pow(1+r/100,4))\n",
        "print(\"Compound intrest is {}\".format(CI))"
      ],
      "execution_count": null,
      "outputs": [
        {
          "output_type": "stream",
          "name": "stdout",
          "text": [
            "Enter Princeple amount:50000\n",
            "Compound intrest is 66773.45703125\n"
          ]
        }
      ]
    },
    {
      "cell_type": "code",
      "metadata": {
        "colab": {
          "base_uri": "https://localhost:8080/"
        },
        "id": "PfQXz4H2oV6h",
        "outputId": "f7b1de87-1248-427f-b9f1-4816fff0019f"
      },
      "source": [
        "#13. WAP to input days and convert it into years weeks and days.\n",
        "\n",
        "days=int(input(\"Enter days:\"))\n",
        "years=days/365\n",
        "weeks=(days%365)/7\n",
        "day=(days%365)%7\n",
        "\n",
        "print(\"years {}:\".format(years))\n",
        "print(\"weeks: {}\".format(weeks))\n",
        "print(\"day: {}\".format(day))"
      ],
      "execution_count": null,
      "outputs": [
        {
          "output_type": "stream",
          "name": "stdout",
          "text": [
            "Enter days:1358\n",
            "years 3.7205479452054795:\n",
            "weeks: 37.57142857142857\n",
            "day: 4\n"
          ]
        }
      ]
    },
    {
      "cell_type": "code",
      "metadata": {
        "colab": {
          "base_uri": "https://localhost:8080/"
        },
        "id": "oJqgrMQ-pOJ2",
        "outputId": "3a72af85-e591-4eef-e87d-2b0c1fc2d42b"
      },
      "source": [
        "#14.  WAP that accept distence cm and convert it into inches.\n",
        "\n",
        "d=int(input(\"Enter distance in centi eter:\"))\n",
        "X = d*0.394\n",
        "print(\"Converted distance in inches is {}\".format(X))"
      ],
      "execution_count": null,
      "outputs": [
        {
          "output_type": "stream",
          "name": "stdout",
          "text": [
            "Enter distance in centi eter:60\n",
            "Converted distance in inches is 23.64\n"
          ]
        }
      ]
    },
    {
      "cell_type": "code",
      "metadata": {
        "colab": {
          "base_uri": "https://localhost:8080/"
        },
        "id": "mmLvqqoCp6Bn",
        "outputId": "6e4838e8-2279-4b3b-9d28-2c87c40cbcb3"
      },
      "source": [
        "#15. WAP to calculate gross salary of employee input salary from user to calculate gross salary consider 10% hr and 50% da on basic salary.\n",
        "\n",
        "basic = int(input(\"Enter basic salary of an employee:\"))\n",
        "hr = (basic/10)\n",
        "da = (basic/50)\n",
        "gross_salary = basic+hr+da\n",
        "print(\" Gross salary of an employee is: {}\".format(gross_salary))\n",
        "\n"
      ],
      "execution_count": null,
      "outputs": [
        {
          "output_type": "stream",
          "name": "stdout",
          "text": [
            "Enter basic salary of an employee:100000\n",
            " Gross salary of an employee is: 112000.0\n"
          ]
        }
      ]
    },
    {
      "cell_type": "code",
      "metadata": {
        "colab": {
          "base_uri": "https://localhost:8080/"
        },
        "id": "4bVRGIho1kgQ",
        "outputId": "4fa5b693-7071-4a01-855f-b8715066f9f6"
      },
      "source": [
        "#16.  WAP to calculate area and perimeter of a rectangle.\n",
        "\n",
        "l=int(input(\"Enter length of a rectangle:\"))\n",
        "b=int(input(\"Enter bredth of a rectangle: \"))\n",
        "area = (l*b)\n",
        "perimeter = 2*(l+b) \n",
        "print(\"Area of rectangle is {}\".format(area))\n",
        "print(\"Peremeter of rectangle is {}\".format(perimeter))"
      ],
      "execution_count": null,
      "outputs": [
        {
          "output_type": "stream",
          "name": "stdout",
          "text": [
            "Enter length of a rectangle:9\n",
            "Enter bredth of a rectangle: 4\n",
            "Area of rectangle is 36\n",
            "Peremeter of rectangle is 26\n"
          ]
        }
      ]
    },
    {
      "cell_type": "code",
      "metadata": {
        "colab": {
          "base_uri": "https://localhost:8080/"
        },
        "id": "wlsyrvA45AZl",
        "outputId": "0cd3bfc8-8d73-4e9a-d827-d78b581ebe06"
      },
      "source": [
        "#17. WAP thrt calculate simple intrest rate 7.5% and time 4 years.\n",
        "\n",
        "r = 7.5\n",
        "t = 4\n",
        "PI=int(input(\"Enter Princeple amount:\"))\n",
        "SI = (PI*r*t) / 100\n",
        "print(\"Simple intrest is {}\".format(SI))"
      ],
      "execution_count": null,
      "outputs": [
        {
          "output_type": "stream",
          "name": "stdout",
          "text": [
            "Enter Princeple amount:60000\n",
            "Simple intrest is 18000.0\n"
          ]
        }
      ]
    },
    {
      "cell_type": "code",
      "metadata": {
        "colab": {
          "base_uri": "https://localhost:8080/"
        },
        "id": "sOw4uj7q6QBj",
        "outputId": "6a68d63e-a57d-4c76-f2c6-86a90f323271"
      },
      "source": [
        "#18. WAP to reverse three digit number.\n",
        " \n",
        "a=int(input(\"Enter three digit number:\"))\n",
        "b=int(a%10)\n",
        "c=int(a/10)%10\n",
        "d=int((a/10)/10)%10\n",
        "\n",
        "print(\"reverse of {} is {}{}{}\".format(a,b,c,d))"
      ],
      "execution_count": null,
      "outputs": [
        {
          "output_type": "stream",
          "name": "stdout",
          "text": [
            "Enter three digit number:123\n",
            "reverse of 123 is 321\n"
          ]
        }
      ]
    },
    {
      "cell_type": "code",
      "metadata": {
        "colab": {
          "base_uri": "https://localhost:8080/"
        },
        "id": "zi9zQwDS7wrI",
        "outputId": "5c4c01fd-89a3-43c4-a6c9-f9601fbbf894"
      },
      "source": [
        "#19. WAP to reverse four and five digit number.\n",
        "\n",
        "a=int(input(\"Enter four digit number:\"))\n",
        "b=int(a%10)\n",
        "c=int(a/10)%10\n",
        "d=int((a/10)/10)%10\n",
        "e=int(((a/10)/10)/10)%10\n",
        "print(\"reverse of {} is {}{}{}{}\".format(a,b,c,d,e))\n",
        "\n",
        "x=int(input(\"Enter five digit number:\"))\n",
        "b=int(x%10)\n",
        "c=int(x/10)%10\n",
        "d=int((x/10)/10)%10\n",
        "e=int(((x/10)/10)/10)%10\n",
        "f=int((((x/10)/10)/10)/10)%10\n",
        "print(\"reverse of {} is {}{}{}{}{}\".format(x,b,c,d,e,f))\n"
      ],
      "execution_count": null,
      "outputs": [
        {
          "output_type": "stream",
          "name": "stdout",
          "text": [
            "Enter four digit number:1234\n",
            "reverse of 1234 is 4321\n",
            "Enter five digit number:12345\n",
            "reverse of 12345 is 54321\n"
          ]
        }
      ]
    },
    {
      "cell_type": "code",
      "metadata": {
        "colab": {
          "base_uri": "https://localhost:8080/"
        },
        "id": "9k-bbt2XCDKT",
        "outputId": "98e2538f-2f06-4e00-cc4e-4546e36b4f23"
      },
      "source": [
        "#20. WAP to swap two numbers using third variable.\n",
        "\n",
        "x = 100\n",
        "y = 200\n",
        "z= x,y = y,x\n",
        "print(\"swaped number is {}\".format(z))"
      ],
      "execution_count": null,
      "outputs": [
        {
          "output_type": "stream",
          "name": "stdout",
          "text": [
            "swaped number is (200, 100)\n"
          ]
        }
      ]
    },
    {
      "cell_type": "code",
      "metadata": {
        "colab": {
          "base_uri": "https://localhost:8080/"
        },
        "id": "h5SvmL3nHETe",
        "outputId": "d3b3eb65-c5a0-4620-c0bb-379772210d47"
      },
      "source": [
        "#20. WAP to swap two numbers without using third variable.\n",
        "\n",
        "x = 100\n",
        "y = 200\n",
        "x,y = y,x\n",
        "print(x)\n",
        "print(y)"
      ],
      "execution_count": null,
      "outputs": [
        {
          "output_type": "stream",
          "name": "stdout",
          "text": [
            "200\n",
            "100\n"
          ]
        }
      ]
    },
    {
      "cell_type": "code",
      "metadata": {
        "colab": {
          "base_uri": "https://localhost:8080/"
        },
        "id": "izz6ji7YHTja",
        "outputId": "5fbec928-6c42-49ba-d72d-eb7ea03f889b"
      },
      "source": [
        "#21. WAP to find Area of ircle and Area of Cylinder.\n",
        "\n",
        "pi = (22/7.0)\n",
        "r=int(input(\"Enter redius of a circle:\"))\n",
        "area = (pi*pow(r,2))\n",
        "print(\"Area of circle is\",area)\n",
        "h=int(input(\"Enter height of a cylinder:\"))\n",
        "Area = (2*PI*r*h) + 2*PI*pow(r,2)\n",
        "print(\"Area of cylinder is\",Area)"
      ],
      "execution_count": null,
      "outputs": [
        {
          "output_type": "stream",
          "name": "stdout",
          "text": [
            "Enter redius of a circle:4\n",
            "Area of circle is 50.285714285714285\n",
            "Enter height of a cylinder:6\n",
            "Area of cylinder is 4800000\n"
          ]
        }
      ]
    },
    {
      "cell_type": "code",
      "metadata": {
        "id": "JLiso2pVJvC6"
      },
      "source": [
        ""
      ],
      "execution_count": null,
      "outputs": []
    },
    {
      "cell_type": "code",
      "metadata": {
        "id": "ab0Bx_z0J-xs",
        "colab": {
          "base_uri": "https://localhost:8080/"
        },
        "outputId": "a7bdd59b-06c7-4e39-c821-377fed73dfea"
      },
      "source": [
        "#22\n",
        "\n",
        "y=int(input(\"Enter value of y:\"))\n",
        "z=int(input(\"Enter value of z:\"))\n",
        "r=int(input(\"Enter value of r:\"))\n",
        "ans = (pow(y,2)+pow(z,4)+pow(r,3)/5)\n",
        "print(\"Answer is: {}\".format(ans))"
      ],
      "execution_count": null,
      "outputs": [
        {
          "output_type": "stream",
          "name": "stdout",
          "text": [
            "Enter value of y:4\n",
            "Enter value of z:7\n",
            "Enter value of r:9\n",
            "Answer is: 2562.8\n"
          ]
        }
      ]
    },
    {
      "cell_type": "code",
      "metadata": {
        "colab": {
          "base_uri": "https://localhost:8080/"
        },
        "id": "7r6f0aT9RG0g",
        "outputId": "b6e8c2be-5036-407c-9092-fcce03363b4f"
      },
      "source": [
        "#23\n",
        "\n",
        "import math\n",
        "a=int(input(\"Enter value of a:\"))\n",
        "b=int(input(\"Enter value of b:\"))\n",
        "result= (pow(a,2)+pow(b,2)/(math.sqrt(pow(a,2)+pow(b,2))));\n",
        "print(\"Answer is: {}\".format(result))\n"
      ],
      "execution_count": null,
      "outputs": [
        {
          "output_type": "stream",
          "name": "stdout",
          "text": [
            "Enter value of a:6\n",
            "Enter value of b:8\n",
            "Answer is: 42.4\n"
          ]
        }
      ]
    },
    {
      "cell_type": "code",
      "metadata": {
        "colab": {
          "base_uri": "https://localhost:8080/"
        },
        "id": "kgBzIxqG62Dy",
        "outputId": "542e4220-8e30-4723-9d7b-ff6c9ccb83f3"
      },
      "source": [
        "#2\n",
        "\n",
        "import math\n",
        "a=int(input(\"Enter value of a:\"))\n",
        "b=int(input(\"Enter value of b:\"))\n",
        "ans= math.sqrt(pow(a,2)+pow(b,2)/(math.sqrt(pow(a,2)+pow(b,2))));\n",
        "print(\"Answer is: {}\".format(ans))\n"
      ],
      "execution_count": null,
      "outputs": [
        {
          "output_type": "stream",
          "name": "stdout",
          "text": [
            "Enter value of a:6\n",
            "Enter value of b:8\n",
            "Answer is: 6.511528238439882\n"
          ]
        }
      ]
    },
    {
      "cell_type": "code",
      "metadata": {
        "colab": {
          "base_uri": "https://localhost:8080/"
        },
        "id": "OnLKIrxRqVvg",
        "outputId": "355c7743-d533-418c-90b3-a8ca754d83b7"
      },
      "source": [
        "#27. \n",
        "\n",
        "x=\"Portfolio\"\n",
        "print(x)\n",
        "a=input(\"Name: \")\n",
        "b=int(input(\"Age: \"))\n",
        "c=input(\"Education: \")\n",
        "d=input(\"Adress: \")"
      ],
      "execution_count": null,
      "outputs": [
        {
          "name": "stdout",
          "output_type": "stream",
          "text": [
            "Portfolio\n",
            "Name: Pratik\n",
            "Age: 21\n",
            "Education: BE\n",
            "Adress: India\n"
          ]
        }
      ]
    },
    {
      "cell_type": "markdown",
      "metadata": {
        "id": "d0-A4yzR9Gif"
      },
      "source": [
        "<h3>Program on Conditional operator:-</h3>"
      ]
    },
    {
      "cell_type": "code",
      "metadata": {
        "id": "92iqJzbKV-Sp",
        "colab": {
          "base_uri": "https://localhost:8080/"
        },
        "outputId": "cccbabab-53f5-4fca-8a53-9c2d16cf580b"
      },
      "source": [
        "#28 WAP to print inputed number is even or odd\n",
        "\n",
        "n=int(input(\"Enter any number:\"))\n",
        "print(\" {} Number is even\".format(n)) if n % 2 == 0 else print(\"{} Number is odd\".format(n))\n"
      ],
      "execution_count": null,
      "outputs": [
        {
          "output_type": "stream",
          "name": "stdout",
          "text": [
            "Enter any number:98\n",
            " 98 Number is even\n"
          ]
        }
      ]
    },
    {
      "cell_type": "code",
      "metadata": {
        "colab": {
          "base_uri": "https://localhost:8080/"
        },
        "id": "Tk3b8Z9p8o0Y",
        "outputId": "0fa09e91-c910-4ce6-d179-b332f4735950"
      },
      "source": [
        "#29 WAP to print inputed year is leap year or common year. \n",
        "\n",
        "year=int(input(\"Enter any number:\"))\n",
        "print(\" {} Year is a leap year\".format(year)) if year % 4 == 0 else print(\"{} Year is a common year\".format(year))"
      ],
      "execution_count": null,
      "outputs": [
        {
          "output_type": "stream",
          "name": "stdout",
          "text": [
            "Enter any number:2016\n",
            " 2016 Year is a leap year\n"
          ]
        }
      ]
    },
    {
      "cell_type": "code",
      "metadata": {
        "colab": {
          "base_uri": "https://localhost:8080/"
        },
        "id": "KFujTHdSFmsp",
        "outputId": "e863bc4b-8caf-4386-875b-d7324b4c6316"
      },
      "source": [
        "#30 WAP to print inputed value is positive or negative.\n",
        "\n",
        "n=int(input(\"Enter any value:\"))\n",
        "print(\" {} value is positive\".format(n)) if n>0 else print(\"{} value is negative\".format(n))"
      ],
      "execution_count": null,
      "outputs": [
        {
          "output_type": "stream",
          "name": "stdout",
          "text": [
            "Enter any value:9\n",
            " 9 value is positive\n"
          ]
        }
      ]
    },
    {
      "cell_type": "code",
      "metadata": {
        "colab": {
          "base_uri": "https://localhost:8080/"
        },
        "id": "kVe5TWJjGkIZ",
        "outputId": "886ff2e7-cf58-45ed-a623-e0dff32c30ae"
      },
      "source": [
        "#31. WAP to find smallest among three numbers.\n",
        "a=int(input(\"Enter any number:\"))\n",
        "b=int(input(\"Enter any number: \"))\n",
        "c=int(input(\"Enter any number:\"))\n",
        "print(\"{} is small\".format(a)) if a < b else print(\"{} is small\".format(a)) if a<c else print(\"{} is small\".format(b)) if b<c else print(\"{} is small\".format(c))"
      ],
      "execution_count": null,
      "outputs": [
        {
          "output_type": "stream",
          "name": "stdout",
          "text": [
            "Enter any number:6\n",
            "Enter any number: 8\n",
            "Enter any number:5\n",
            "6 is small\n"
          ]
        }
      ]
    },
    {
      "cell_type": "code",
      "metadata": {
        "colab": {
          "base_uri": "https://localhost:8080/"
        },
        "id": "N7545jAWDfOD",
        "outputId": "3b0f7dbe-4d16-40ee-e1ae-b6320229071f"
      },
      "source": [
        "#32. WAP TO CALCULATE BIKES AVERAGE CONSUMPTIO FROM GIVEN TOTAL DISTANCE TREVEELED IN KM AND SPENT FULL IN LITERS. HINT:- 350 KM IN 50 LIT 350 KM IN 5 LIT.\n",
        "\n",
        "km = 350\n",
        "lit = 50\n",
        "Lit = 5\n",
        "average1 = km/lit\n",
        "print(\"Answer is: {}\".format(average1))\n",
        "average2 = km/Lit\n",
        "print(\"Answer is: {}\".format(average2))"
      ],
      "execution_count": null,
      "outputs": [
        {
          "output_type": "stream",
          "name": "stdout",
          "text": [
            "Answer is: 7.0\n",
            "Answer is: 70.0\n"
          ]
        }
      ]
    },
    {
      "cell_type": "markdown",
      "metadata": {
        "id": "lJeCprE_FP6Q"
      },
      "source": [
        "<h3>Control statement</h4>"
      ]
    },
    {
      "cell_type": "code",
      "metadata": {
        "colab": {
          "base_uri": "https://localhost:8080/"
        },
        "id": "hW7KD1nBFhuK",
        "outputId": "5db96727-fbe0-4f3c-8d38-bc3b24fbc7e5"
      },
      "source": [
        "#33. WAP to check inputed number is positive o negative.\n",
        "\n",
        "n=int(input(\"Enter any number:\"))\n",
        "if n > 0:\n",
        "    print(\"{} is positive number\".format(n))\n",
        "else: \n",
        "    print(\"{} is negative number\".format(n))\n"
      ],
      "execution_count": null,
      "outputs": [
        {
          "output_type": "stream",
          "name": "stdout",
          "text": [
            "Enter any number:8\n",
            "8 is positive number\n"
          ]
        }
      ]
    },
    {
      "cell_type": "code",
      "metadata": {
        "colab": {
          "base_uri": "https://localhost:8080/"
        },
        "id": "sh45Y740HvYw",
        "outputId": "753e55f1-0277-43d4-d107-d7ffad0a7b2f"
      },
      "source": [
        "#34. WAP to check inputed number is even or odd.\n",
        "\n",
        "n=int(input(\"Enter any number:\"))\n",
        "if n % 2 == 0:\n",
        "    print(\"{} is even number\".format(n))\n",
        "else: \n",
        "    print(\"{} is odd number\".format(n))"
      ],
      "execution_count": null,
      "outputs": [
        {
          "output_type": "stream",
          "name": "stdout",
          "text": [
            "Enter any number:8\n",
            "8 is even number\n"
          ]
        }
      ]
    },
    {
      "cell_type": "code",
      "metadata": {
        "colab": {
          "base_uri": "https://localhost:8080/"
        },
        "id": "tZVJpQv7Iqm4",
        "outputId": "aac7769a-5a6f-4e12-bd15-15e086b10784"
      },
      "source": [
        "#35. WAP to check inputed number is divisible by 7 or not.\n",
        "\n",
        "n=int(input(\"Enter any number:\"))\n",
        "if n % 7 == 0:\n",
        "    print(\"{} is divisible by 7\".format(n))\n",
        "else: \n",
        "    print(\"{} is not divisible by 7\".format(n))"
      ],
      "execution_count": null,
      "outputs": [
        {
          "output_type": "stream",
          "name": "stdout",
          "text": [
            "Enter any number:63\n",
            "63 is divisible by 7\n"
          ]
        }
      ]
    },
    {
      "cell_type": "code",
      "metadata": {
        "colab": {
          "base_uri": "https://localhost:8080/"
        },
        "id": "2RhrNkyvJed-",
        "outputId": "3a401de6-972d-45f2-d07d-c6d3ac7f3a99"
      },
      "source": [
        "#36. WAP to check inputed number is divisible by 5 or 7.\n",
        "\n",
        "\n",
        "n=int(input(\"Enter any number:\"))\n",
        "if n % 5 == 0 or n % 7 == 0:\n",
        "    print(\"{} is divisible by 5 or 7\".format(n))\n",
        "else: \n",
        "    print(\"{} is not divisible by 5 or 7\".format(n))"
      ],
      "execution_count": null,
      "outputs": [
        {
          "output_type": "stream",
          "name": "stdout",
          "text": [
            "Enter any number:70\n",
            "70 is divisible by 5 or 7\n"
          ]
        }
      ]
    },
    {
      "cell_type": "code",
      "metadata": {
        "colab": {
          "base_uri": "https://localhost:8080/"
        },
        "id": "ojraURTtKMz9",
        "outputId": "84b47ba3-0c78-4f61-b0d2-817443a51ed1"
      },
      "source": [
        "#37. WAP to check inputed number is divisible by 5 or 7.\n",
        "\n",
        "\n",
        "n=int(input(\"Enter any number:\"))\n",
        "if n % 5 == 0 and n % 7 == 0:\n",
        "    print(\"{} is divisible by 5 and 7\".format(n))\n",
        "else: \n",
        "    print(\"{} is not divisible by 5 and 7\".format(n))"
      ],
      "execution_count": null,
      "outputs": [
        {
          "output_type": "stream",
          "name": "stdout",
          "text": [
            "Enter any number:35\n",
            "35 is divisible by 5 and 7\n"
          ]
        }
      ]
    }
  ]
}